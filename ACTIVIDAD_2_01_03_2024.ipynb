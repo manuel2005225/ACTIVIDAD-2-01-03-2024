{
  "nbformat": 4,
  "nbformat_minor": 0,
  "metadata": {
    "colab": {
      "provenance": [],
      "authorship_tag": "ABX9TyOvYI5pf/iNIoDJ35/pWEvc",
      "include_colab_link": true
    },
    "kernelspec": {
      "name": "python3",
      "display_name": "Python 3"
    },
    "language_info": {
      "name": "python"
    }
  },
  "cells": [
    {
      "cell_type": "markdown",
      "metadata": {
        "id": "view-in-github",
        "colab_type": "text"
      },
      "source": [
        "<a href=\"https://colab.research.google.com/github/manuel2005225/ACTIVIDAD-2-01-03-2024/blob/main/ACTIVIDAD_2_01_03_2024.ipynb\" target=\"_parent\"><img src=\"https://colab.research.google.com/assets/colab-badge.svg\" alt=\"Open In Colab\"/></a>"
      ]
    },
    {
      "cell_type": "code",
      "source": [
        "# 1 ¿Cuántos números entre 1  y 100   (inclusive) son divisibles entre  5 o 8? (30)\n",
        "\n",
        "def is_divisible_by_5_or_8(n):\n",
        "    return n % 5 == 0 or n % 8 == 0\n",
        "\n",
        "count = 0\n",
        "for n in range(1, 101):\n",
        "    if is_divisible_by_5_or_8(n):\n",
        "        count += 1\n",
        "\n",
        "print(count)\n"
      ],
      "metadata": {
        "colab": {
          "base_uri": "https://localhost:8080/"
        },
        "id": "d4ampbv5VzTC",
        "outputId": "2b938661-da8f-49ea-83c0-79b86b344947"
      },
      "execution_count": null,
      "outputs": [
        {
          "output_type": "stream",
          "name": "stdout",
          "text": [
            "30\n"
          ]
        }
      ]
    },
    {
      "cell_type": "code",
      "source": [
        "#2 ¿Cuántos equipos diferentes de tres personas pueden originarse si se tienen cinco personas para elegir entre ellas?\n",
        "\n",
        "import scipy\n",
        "def n_choose_k(n, k):\n",
        "    return scipy.special.comb(n, k)\n",
        "\n",
        "n = 5\n",
        "k = 3\n",
        "\n",
        "num_teams = n_choose_k(n, k)\n",
        "\n",
        "print(num_teams)\n"
      ],
      "metadata": {
        "colab": {
          "base_uri": "https://localhost:8080/"
        },
        "id": "RGW5A5lQV86J",
        "outputId": "858272c9-d876-4473-977c-6a4e9a5a3344"
      },
      "execution_count": null,
      "outputs": [
        {
          "output_type": "stream",
          "name": "stdout",
          "text": [
            "10.0\n"
          ]
        }
      ]
    },
    {
      "cell_type": "code",
      "source": [
        "#3 ¿Cuántas permutaciones de tres elementos se forman con tres objetos?\n",
        "\n",
        "from itertools import permutations\n",
        "\n",
        "elementos = ['objeto1', 'objeto2', 'objeto3']\n",
        "\n",
        "permutaciones = list(permutations(elementos, 3))\n",
        "\n",
        "numero_de_permutaciones = len(permutaciones)\n",
        "\n",
        "print(\"El número de permutaciones de tres elementos es:\", numero_de_permutaciones)\n"
      ],
      "metadata": {
        "colab": {
          "base_uri": "https://localhost:8080/"
        },
        "id": "MjCyh3EfbCsa",
        "outputId": "080177ed-9669-4deb-8ca5-fa0f3b6012d2"
      },
      "execution_count": null,
      "outputs": [
        {
          "output_type": "stream",
          "name": "stdout",
          "text": [
            "El número de permutaciones de tres elementos es: 6\n"
          ]
        }
      ]
    },
    {
      "cell_type": "code",
      "source": [
        "#4: ¿En cuántas formas diferentes pueden sacarse cuatro cartas (a la vez) de un paquete de 52 cartas?\n",
        "\n",
        "def n_combinations_of_k_elements(n, k):\n",
        "    return scipy.special.comb(n, k)\n",
        "\n",
        "n = 52\n",
        "k = 4\n",
        "\n",
        "num_combinations = n_combinations_of_k_elements(n, k)\n",
        "\n",
        "print(num_combinations)\n"
      ],
      "metadata": {
        "colab": {
          "base_uri": "https://localhost:8080/"
        },
        "id": "myB1wAYdbOk6",
        "outputId": "135b4e95-726c-470d-ae7f-7474e608be2e"
      },
      "execution_count": null,
      "outputs": [
        {
          "output_type": "stream",
          "name": "stdout",
          "text": [
            "270725.0\n"
          ]
        }
      ]
    },
    {
      "cell_type": "code",
      "source": [
        "#5: ¿Cuántas señas diferentes, cada una de 8 banderas colocadas en línea vertical, pueden formarse con 4 banderas rojas, 3 blancas y una azul?\n",
        "\n",
        "import math\n",
        "total_banderas = 8\n",
        "\n",
        "rojas = 4\n",
        "blancas = 3\n",
        "azules = 1\n",
        "\n",
        "combinaciones_rojas = math.comb(total_banderas, rojas)\n",
        "combinaciones_blancas = math.comb(total_banderas - rojas, blancas)\n",
        "combinaciones_azules = math.comb(total_banderas - rojas - blancas, azules)\n",
        "\n",
        "total_senas = combinaciones_rojas * combinaciones_blancas * combinaciones_azules\n",
        "\n",
        "print(\"El número total de señas diferentes es:\", total_senas)\n"
      ],
      "metadata": {
        "colab": {
          "base_uri": "https://localhost:8080/"
        },
        "id": "Y5dPbVCmbVuz",
        "outputId": "489a5c3c-f80f-4fd2-df46-82daaa64d098"
      },
      "execution_count": null,
      "outputs": [
        {
          "output_type": "stream",
          "name": "stdout",
          "text": [
            "El número total de señas diferentes es: 280\n"
          ]
        }
      ]
    },
    {
      "cell_type": "code",
      "source": [
        "#7: Calcula el número de formas en que un ejecutivo puede elegir de 3 a 15 empleados para un ascenso.\n",
        "\n",
        "import itertools\n",
        "total_empleados = range(1, 16)\n",
        "\n",
        "num_empleados = 3\n",
        "\n",
        "num_combinaciones = len(list(itertools.combinations(total_empleados, num_empleados)))\n",
        "print(f'Número de formas de elegir {num_empleados} empleados: {num_combinaciones}')\n"
      ],
      "metadata": {
        "colab": {
          "base_uri": "https://localhost:8080/"
        },
        "id": "U5PcklIUbWAT",
        "outputId": "18c378a0-e9f3-4f76-ecc2-fb1b0148b68e"
      },
      "execution_count": null,
      "outputs": [
        {
          "output_type": "stream",
          "name": "stdout",
          "text": [
            "Número de formas de elegir 3 empleados: 455\n"
          ]
        }
      ]
    },
    {
      "cell_type": "code",
      "source": [
        "#8: Calcula el número de formas en que un capataz puede escoger a 12 de 18 trabajadores para asignarles trabajo en tiempo extra.\n",
        "\n",
        "total_trabajadores = 18\n",
        "\n",
        "trabajadores_seleccionados = 12\n",
        "\n",
        "num_combinaciones = math.comb(total_trabajadores, trabajadores_seleccionados)\n",
        "\n",
        "print(\"El número de formas en que el capataz puede seleccionar a 12 trabajadores de entre los 18 disponibles es:\", num_combinaciones)"
      ],
      "metadata": {
        "id": "BUY6TzigbWKL",
        "colab": {
          "base_uri": "https://localhost:8080/"
        },
        "outputId": "4b6ec274-33a8-4f42-dac8-b81b1106aa13"
      },
      "execution_count": null,
      "outputs": [
        {
          "output_type": "stream",
          "name": "stdout",
          "text": [
            "El número de formas en que el capataz puede seleccionar a 12 trabajadores de entre los 18 disponibles es: 18564\n"
          ]
        }
      ]
    },
    {
      "cell_type": "code",
      "source": [
        "#9: ¿Cuántos comités de 4 personas se pueden formar con 9 personas?\n",
        "\n",
        "total_personas = 9\n",
        "\n",
        "tamaño_comite = 4\n",
        "\n",
        "num_combinaciones = math.comb(total_personas, tamaño_comite)\n",
        "\n",
        "print(\"El número de comités de 4 personas que se pueden formar con 9 personas es:\", num_combinaciones)"
      ],
      "metadata": {
        "id": "jKKYKagGbWWL",
        "colab": {
          "base_uri": "https://localhost:8080/"
        },
        "outputId": "e7a67d68-d0f2-4677-e402-a411abc1050b"
      },
      "execution_count": null,
      "outputs": [
        {
          "output_type": "stream",
          "name": "stdout",
          "text": [
            "El número de comités de 4 personas que se pueden formar con 9 personas es: 126\n"
          ]
        }
      ]
    },
    {
      "cell_type": "code",
      "source": [
        "#10: ¿De cuántas maneras se puede escoger un comité compuesto por 3 hombres y 2 mujeres, de un grupo de 7 hombres y 5 mujeres?\n",
        "\n",
        "total_hombres = 7\n",
        "total_mujeres = 5\n",
        "\n",
        "hombres_seleccionados = 3\n",
        "mujeres_seleccionadas = 2\n",
        "\n",
        "combinaciones_hombres = math.comb(total_hombres, hombres_seleccionados)\n",
        "combinaciones_mujeres = math.comb(total_mujeres, mujeres_seleccionadas)\n",
        "\n",
        "num_formas = combinaciones_hombres * combinaciones_mujeres\n",
        "\n",
        "print(\"El número de formas de seleccionar un comité compuesto por 3 hombres y 2 mujeres es:\", num_formas)\n"
      ],
      "metadata": {
        "id": "ZadsoQzKbWgj",
        "colab": {
          "base_uri": "https://localhost:8080/"
        },
        "outputId": "04ced9a3-e5ce-44fc-94f1-4b4073cf9339"
      },
      "execution_count": null,
      "outputs": [
        {
          "output_type": "stream",
          "name": "stdout",
          "text": [
            "El número de formas de seleccionar un comité compuesto por 3 hombres y 2 mujeres es: 350\n"
          ]
        }
      ]
    },
    {
      "cell_type": "code",
      "source": [
        "#12: Con 7 consonantes y 5 vocales diferentes, ¿cuántas palabras pueden formarse que consten de 4 consonantes y 3 vocales? No es necesario que las palabras tengan significado.\n",
        "\n",
        "def permutaciones(n, r):\n",
        "    return math.factorial(n) / math.factorial(n - r)\n",
        "\n",
        "consonantes_disponibles = 7\n",
        "vocales_disponibles = 5\n",
        "\n",
        "consonantes_requeridas = 4\n",
        "vocales_requeridas = 3\n",
        "\n",
        "num_palabras = permutaciones(consonantes_disponibles, consonantes_requeridas) * permutaciones(vocales_disponibles, vocales_requeridas)\n",
        "\n",
        "print(\"El número de palabras posibles es:\", int(num_palabras))"
      ],
      "metadata": {
        "id": "D0QzBCUrbWsj",
        "colab": {
          "base_uri": "https://localhost:8080/"
        },
        "outputId": "e2053c65-f86a-497c-81eb-590798e0a6f5"
      },
      "execution_count": null,
      "outputs": [
        {
          "output_type": "stream",
          "name": "stdout",
          "text": [
            "El número de palabras posibles es: 50400\n"
          ]
        }
      ]
    },
    {
      "cell_type": "code",
      "source": [
        "#15: Un disco compacto puede ser comprado en cualquiera de las 5 tiendas. ¿De cuántas maneras se puede seleccionar 3 de las 5 tiendas?\n",
        "\n",
        "def combinaciones(n, r):\n",
        "    return math.factorial(n) / (math.factorial(r) * math.factorial(n - r))\n",
        "\n",
        "# Número total de tiendas disponibles\n",
        "total_tiendas = 5\n",
        "\n",
        "# Número de tiendas a seleccionar\n",
        "tiendas_a_seleccionar = 3\n",
        "\n",
        "# Calcular el número de maneras de seleccionar las tiendas\n",
        "num_maneras = combinaciones(total_tiendas, tiendas_a_seleccionar)\n",
        "\n",
        "print(\"El número de maneras de seleccionar 3 tiendas de 5 es:\", int(num_maneras))\n"
      ],
      "metadata": {
        "id": "1Tb50jwbbW1T",
        "colab": {
          "base_uri": "https://localhost:8080/"
        },
        "outputId": "064fe8ea-79c7-49d2-bce1-fea039b1e31c"
      },
      "execution_count": null,
      "outputs": [
        {
          "output_type": "stream",
          "name": "stdout",
          "text": [
            "El número de maneras de seleccionar 3 tiendas de 5 es: 10\n"
          ]
        }
      ]
    },
    {
      "cell_type": "code",
      "source": [
        "# 16: Determine el número de formas en que una persona puede seleccionar cuatro productos de una lista de ocho.\n",
        "\n",
        "import scipy\n",
        "\n",
        "def n_ways_to_choose_k_products(n, k):\n",
        "  return scipy.special.comb(n, k)\n",
        "\n",
        "n = 8\n",
        "k = 4\n",
        "\n",
        "num_ways = n_ways_to_choose_k_products(n, k)\n",
        "\n",
        "print(num_ways)\n"
      ],
      "metadata": {
        "id": "OJoJAHRabXfR",
        "colab": {
          "base_uri": "https://localhost:8080/"
        },
        "outputId": "d744a131-aa51-407f-fb71-11e88c67ca61"
      },
      "execution_count": null,
      "outputs": [
        {
          "output_type": "stream",
          "name": "stdout",
          "text": [
            "70.0\n"
          ]
        }
      ]
    },
    {
      "cell_type": "code",
      "source": [
        "# 20: Determine si cada una de las siguientes expresiones es verdadera o falsa: a. 9!=9*8*7*6! b. 5!*4!=20! c. 5!+5!=10! d. 8!=9!/9 e. 5!=10!/2! f. ¾+1/4=1! g. 3!*2!=6! h. 8!=6!*56\n",
        "\n",
        "# a. 9! = 9*8*7*6!\n",
        "exp_a = math.factorial(9) == (9*8*7*math.factorial(6))\n",
        "print(\"a. 9! = 9*8*7*6!:\", exp_a)\n",
        "\n",
        "# b. 5!*4! = 20!\n",
        "exp_b = math.factorial(5) * math.factorial(4) == math.factorial(20)\n",
        "print(\"b. 5!*4! = 20!:\", exp_b)\n",
        "\n",
        "# c. 5! + 5! = 10!\n",
        "exp_c = math.factorial(5) + math.factorial(5) == math.factorial(10)\n",
        "print(\"c. 5! + 5! = 10!:\", exp_c)\n",
        "\n",
        "# d. 8! = 9!/9\n",
        "exp_d = math.factorial(8) == math.factorial(9) / 9\n",
        "print(\"d. 8! = 9!/9:\", exp_d)\n",
        "\n",
        "# e. 5! = 10!/2!\n",
        "exp_e = math.factorial(5) == math.factorial(10) / math.factorial(2)\n",
        "print(\"e. 5! = 10!/2!:\", exp_e)\n",
        "\n",
        "# f. 3/4 + 1/4 = 1!\n",
        "exp_f = (3/4 + 1/4) == math.factorial(1)\n",
        "print(\"f. 3/4 + 1/4 = 1!:\", exp_f)\n",
        "\n",
        "# g. 3!*2! = 6!\n",
        "exp_g = math.factorial(3) * math.factorial(2) == math.factorial(6)\n",
        "print(\"g. 3!*2! = 6!:\", exp_g)\n",
        "\n",
        "# h. 8! = 6!*56\n",
        "exp_h = math.factorial(8) == math.factorial(6) * 56\n",
        "print(\"h. 8! = 6!*56:\", exp_h)\n"
      ],
      "metadata": {
        "colab": {
          "base_uri": "https://localhost:8080/"
        },
        "id": "aYVRJzQZbXcr",
        "outputId": "f048ee00-ad5f-45fd-f776-7ea3a07dc8bb"
      },
      "execution_count": null,
      "outputs": [
        {
          "output_type": "stream",
          "name": "stdout",
          "text": [
            "a. 9! = 9*8*7*6!: True\n",
            "b. 5!*4! = 20!: False\n",
            "c. 5! + 5! = 10!: False\n",
            "d. 8! = 9!/9: True\n",
            "e. 5! = 10!/2!: False\n",
            "f. 3/4 + 1/4 = 1!: True\n",
            "g. 3!*2! = 6!: False\n",
            "h. 8! = 6!*56: True\n"
          ]
        }
      ]
    },
    {
      "cell_type": "code",
      "source": [
        "#21: El representante de un sindicato desea hablar con tres de los 10 trabajadores inmiscuidos en un procedimiento que es motivo de queja. a. Si es importante el orden de las entrevistas, ¿en cuántas formas puede planear las entrevistas el representante del sindicato? b. Si no importa el orden de tres entrevistas, ¿de cuántas maneras puede planearlas el representante del sindicato?\n",
        "\n",
        "# a.\n",
        "num_formas_ordenadas = scipy.special.perm(10, 3)\n",
        "print(f\"Número de formas (ordenadas): {num_formas_ordenadas}\")\n",
        "\n",
        "# b.\n",
        "num_formas_no_ordenadas = scipy.special.comb(10, 3)\n",
        "print(f\"Número de formas (sin orden): {num_formas_no_ordenadas}\")"
      ],
      "metadata": {
        "id": "o2H9-ut3bXaL",
        "colab": {
          "base_uri": "https://localhost:8080/"
        },
        "outputId": "fb3b8fe4-2f16-4320-8979-0bad0c441641"
      },
      "execution_count": null,
      "outputs": [
        {
          "output_type": "stream",
          "name": "stdout",
          "text": [
            "Número de formas (ordenadas): 720.0\n",
            "Número de formas (sin orden): 120.0\n"
          ]
        }
      ]
    },
    {
      "cell_type": "code",
      "source": [
        "# 22: Calcula el número de formas que el alcalde de Mathprog puede elegir a 3 de 15 constructores para un ascenso.\n",
        "\n",
        "def numero_de_formas_para_elegir_k_constructores_para_un_ascenso(n, k):\n",
        "  return scipy.special.comb(n, k)\n",
        "\n",
        "n = 15\n",
        "k = 3\n",
        "\n",
        "num_formas = numero_de_formas_para_elegir_k_constructores_para_un_ascenso(n, k)\n",
        "\n",
        "print(num_formas)\n"
      ],
      "metadata": {
        "id": "wl0ja70sbXXb",
        "colab": {
          "base_uri": "https://localhost:8080/"
        },
        "outputId": "30b49b33-cd8e-4c60-ffa2-636915361949"
      },
      "execution_count": null,
      "outputs": [
        {
          "output_type": "stream",
          "name": "stdout",
          "text": [
            "455.0\n"
          ]
        }
      ]
    },
    {
      "cell_type": "code",
      "source": [
        "# 27: Si el productor de un noticiero tiene que escoger tres de siete noticias para transmitirlas al aire, ¿de cuántas maneras diferentes puede ordenar el noticiero?\n",
        "\n",
        "import scipy\n",
        "def numero_de_formas_para_ordenar_k_articulos_de_noticias(n, k):\n",
        "    return scipy.special.perm(n, k)\n",
        "\n",
        "n = 7\n",
        "k = 3\n",
        "\n",
        "num_formas = numero_de_formas_para_ordenar_k_articulos_de_noticias(n, k)\n",
        "\n",
        "print(num_formas)\n"
      ],
      "metadata": {
        "id": "WfRyycHGbXRT",
        "colab": {
          "base_uri": "https://localhost:8080/"
        },
        "outputId": "7f13f26a-dd09-4c98-e367-82aff08da9d8"
      },
      "execution_count": null,
      "outputs": [
        {
          "output_type": "stream",
          "name": "stdout",
          "text": [
            "210.0\n"
          ]
        }
      ]
    }
  ]
}